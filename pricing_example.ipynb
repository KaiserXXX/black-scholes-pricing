from bs_pricing import black_scholes_call

# Paramètres
S = 100     # Prix actuel
K = 110     # Strike
T = 1       # 1 an
r = 0.05    # 5% d’intérêt
sigma = 0.2 # 20% de volatilité

price = black_scholes_call(S, K, T, r, sigma)
print(f"Le prix de l’option call est : {round(price, 2)} €")
